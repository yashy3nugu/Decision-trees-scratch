{
 "cells": [
  {
   "cell_type": "markdown",
   "metadata": {},
   "source": [
    "# Load data"
   ]
  },
  {
   "cell_type": "code",
   "execution_count": 2,
   "metadata": {},
   "outputs": [],
   "source": [
    "import numpy as np\n",
    "import pandas as pd\n",
    "import matplotlib.pyplot as plt\n",
    "import seaborn as sns\n",
    "from sklearn.model_selection import train_test_split"
   ]
  },
  {
   "cell_type": "code",
   "execution_count": 3,
   "metadata": {},
   "outputs": [],
   "source": [
    "df = pd.read_csv('BankNote_Authentication.csv')"
   ]
  },
  {
   "cell_type": "code",
   "execution_count": 4,
   "metadata": {},
   "outputs": [
    {
     "data": {
      "text/html": [
       "<div>\n",
       "<style scoped>\n",
       "    .dataframe tbody tr th:only-of-type {\n",
       "        vertical-align: middle;\n",
       "    }\n",
       "\n",
       "    .dataframe tbody tr th {\n",
       "        vertical-align: top;\n",
       "    }\n",
       "\n",
       "    .dataframe thead th {\n",
       "        text-align: right;\n",
       "    }\n",
       "</style>\n",
       "<table border=\"1\" class=\"dataframe\">\n",
       "  <thead>\n",
       "    <tr style=\"text-align: right;\">\n",
       "      <th></th>\n",
       "      <th>variance</th>\n",
       "      <th>skewness</th>\n",
       "      <th>curtosis</th>\n",
       "      <th>entropy</th>\n",
       "      <th>class</th>\n",
       "    </tr>\n",
       "  </thead>\n",
       "  <tbody>\n",
       "    <tr>\n",
       "      <th>0</th>\n",
       "      <td>3.62160</td>\n",
       "      <td>8.66610</td>\n",
       "      <td>-2.8073</td>\n",
       "      <td>-0.44699</td>\n",
       "      <td>0</td>\n",
       "    </tr>\n",
       "    <tr>\n",
       "      <th>1</th>\n",
       "      <td>4.54590</td>\n",
       "      <td>8.16740</td>\n",
       "      <td>-2.4586</td>\n",
       "      <td>-1.46210</td>\n",
       "      <td>0</td>\n",
       "    </tr>\n",
       "    <tr>\n",
       "      <th>2</th>\n",
       "      <td>3.86600</td>\n",
       "      <td>-2.63830</td>\n",
       "      <td>1.9242</td>\n",
       "      <td>0.10645</td>\n",
       "      <td>0</td>\n",
       "    </tr>\n",
       "    <tr>\n",
       "      <th>3</th>\n",
       "      <td>3.45660</td>\n",
       "      <td>9.52280</td>\n",
       "      <td>-4.0112</td>\n",
       "      <td>-3.59440</td>\n",
       "      <td>0</td>\n",
       "    </tr>\n",
       "    <tr>\n",
       "      <th>4</th>\n",
       "      <td>0.32924</td>\n",
       "      <td>-4.45520</td>\n",
       "      <td>4.5718</td>\n",
       "      <td>-0.98880</td>\n",
       "      <td>0</td>\n",
       "    </tr>\n",
       "    <tr>\n",
       "      <th>...</th>\n",
       "      <td>...</td>\n",
       "      <td>...</td>\n",
       "      <td>...</td>\n",
       "      <td>...</td>\n",
       "      <td>...</td>\n",
       "    </tr>\n",
       "    <tr>\n",
       "      <th>1367</th>\n",
       "      <td>0.40614</td>\n",
       "      <td>1.34920</td>\n",
       "      <td>-1.4501</td>\n",
       "      <td>-0.55949</td>\n",
       "      <td>1</td>\n",
       "    </tr>\n",
       "    <tr>\n",
       "      <th>1368</th>\n",
       "      <td>-1.38870</td>\n",
       "      <td>-4.87730</td>\n",
       "      <td>6.4774</td>\n",
       "      <td>0.34179</td>\n",
       "      <td>1</td>\n",
       "    </tr>\n",
       "    <tr>\n",
       "      <th>1369</th>\n",
       "      <td>-3.75030</td>\n",
       "      <td>-13.45860</td>\n",
       "      <td>17.5932</td>\n",
       "      <td>-2.77710</td>\n",
       "      <td>1</td>\n",
       "    </tr>\n",
       "    <tr>\n",
       "      <th>1370</th>\n",
       "      <td>-3.56370</td>\n",
       "      <td>-8.38270</td>\n",
       "      <td>12.3930</td>\n",
       "      <td>-1.28230</td>\n",
       "      <td>1</td>\n",
       "    </tr>\n",
       "    <tr>\n",
       "      <th>1371</th>\n",
       "      <td>-2.54190</td>\n",
       "      <td>-0.65804</td>\n",
       "      <td>2.6842</td>\n",
       "      <td>1.19520</td>\n",
       "      <td>1</td>\n",
       "    </tr>\n",
       "  </tbody>\n",
       "</table>\n",
       "<p>1372 rows × 5 columns</p>\n",
       "</div>"
      ],
      "text/plain": [
       "      variance  skewness  curtosis  entropy  class\n",
       "0      3.62160   8.66610   -2.8073 -0.44699      0\n",
       "1      4.54590   8.16740   -2.4586 -1.46210      0\n",
       "2      3.86600  -2.63830    1.9242  0.10645      0\n",
       "3      3.45660   9.52280   -4.0112 -3.59440      0\n",
       "4      0.32924  -4.45520    4.5718 -0.98880      0\n",
       "...        ...       ...       ...      ...    ...\n",
       "1367   0.40614   1.34920   -1.4501 -0.55949      1\n",
       "1368  -1.38870  -4.87730    6.4774  0.34179      1\n",
       "1369  -3.75030 -13.45860   17.5932 -2.77710      1\n",
       "1370  -3.56370  -8.38270   12.3930 -1.28230      1\n",
       "1371  -2.54190  -0.65804    2.6842  1.19520      1\n",
       "\n",
       "[1372 rows x 5 columns]"
      ]
     },
     "execution_count": 4,
     "metadata": {},
     "output_type": "execute_result"
    }
   ],
   "source": [
    "df"
   ]
  },
  {
   "cell_type": "markdown",
   "metadata": {},
   "source": [
    "# Plot correlations"
   ]
  },
  {
   "cell_type": "code",
   "execution_count": 5,
   "metadata": {},
   "outputs": [
    {
     "data": {
      "text/plain": [
       "<AxesSubplot:>"
      ]
     },
     "execution_count": 5,
     "metadata": {},
     "output_type": "execute_result"
    },
    {
     "data": {
      "image/png": "[encoded data removed]",
      "text/plain": [
       "<Figure size 432x288 with 2 Axes>"
      ]
     },
     "metadata": {
      "needs_background": "light"
     },
     "output_type": "display_data"
    }
   ],
   "source": [
    "correlations = df.drop(columns=['class']).corr()\n",
    "sns.heatmap(correlations,cmap='coolwarm')"
   ]
  },
  {
   "cell_type": "code",
   "execution_count": 6,
   "metadata": {},
   "outputs": [],
   "source": [
    "data = df.values\n",
    "train_data, test_data = train_test_split(data,test_size=0.2)"
   ]
  },
  {
   "cell_type": "code",
   "execution_count": 7,
   "metadata": {},
   "outputs": [
    {
     "data": {
      "text/plain": [
       "0    762\n",
       "1    610\n",
       "Name: class, dtype: int64"
      ]
     },
     "execution_count": 7,
     "metadata": {},
     "output_type": "execute_result"
    }
   ],
   "source": [
    "df['class'].value_counts()"
   ]
  },
  {
   "cell_type": "markdown",
   "metadata": {},
   "source": [
    "# Define functions"
   ]
  },
  {
   "cell_type": "code",
   "execution_count": 8,
   "metadata": {},
   "outputs": [],
   "source": [
    "def label_counts(data):\n",
    "    counts = {}\n",
    "    for row in data:\n",
    "        label = row[-1]\n",
    "        if label not in counts:\n",
    "            counts[label] = 0\n",
    "        counts[label] += 1\n",
    "    return counts"
   ]
  },
  {
   "cell_type": "code",
   "execution_count": 9,
   "metadata": {},
   "outputs": [],
   "source": [
    "def classify(data):\n",
    "    labels = data[:,-1]\n",
    "    classes,classes_count = np.unique(labels,return_counts=True)\n",
    "    \n",
    "    max_index = classes_count.argmax()\n",
    "    classification = classes[max_index]\n",
    "    \n",
    "    return classification"
   ]
  },
  {
   "cell_type": "code",
   "execution_count": 10,
   "metadata": {},
   "outputs": [],
   "source": [
    "# split the dataset based on wether a feature > value\n",
    "def split_by_value(data,column,value):\n",
    "    left = data[data[:,column] <= value]\n",
    "    right = data[data[:,column] > value]\n",
    "    \n",
    "    return left,right"
   ]
  },
  {
   "cell_type": "code",
   "execution_count": 11,
   "metadata": {},
   "outputs": [],
   "source": [
    "def gini(data):\n",
    "    \n",
    "    impurity = 1\n",
    "    \n",
    "    class_counts = label_counts(data)\n",
    "    for label in class_counts:\n",
    "        impurity -= (class_counts[label]/len(data))**2\n",
    "    \n",
    "    return impurity"
   ]
  },
  {
   "cell_type": "code",
   "execution_count": 12,
   "metadata": {},
   "outputs": [
    {
     "data": {
      "text/plain": [
       "0.49386310125882926"
      ]
     },
     "execution_count": 12,
     "metadata": {},
     "output_type": "execute_result"
    }
   ],
   "source": [
    "gini(data)"
   ]
  },
  {
   "cell_type": "code",
   "execution_count": 13,
   "metadata": {},
   "outputs": [],
   "source": [
    "def information_gain(current_uncertainity,left,right):\n",
    "    \n",
    "    weight = float(len(left)/(len(left)+len(right)))\n",
    "    \n",
    "    return current_uncertainity - (weight*gini(left) + (1-weight)*gini(right))\n"
   ]
  },
  {
   "cell_type": "code",
   "execution_count": 14,
   "metadata": {},
   "outputs": [],
   "source": [
    "idx_to_feature = {0: 'variance', 1: 'skewness',2: 'curtosis', 3: 'entropy', 4: 'class'}\n",
    "feature_to_idx = {'variance':0, 'skewness':1, 'curtosis':2, 'entropy':3, 'class':4}"
   ]
  },
  {
   "cell_type": "code",
   "execution_count": 15,
   "metadata": {},
   "outputs": [],
   "source": [
    "def fetch_possible_splits(data):\n",
    "    \n",
    "    possible_splits = {}\n",
    "    n_columns = data.shape[1]\n",
    "    for column in range(n_columns - 1):        \n",
    "        possible_splits[column] = []\n",
    "        values = data[:, column]\n",
    "        unique_vals = np.unique(values)\n",
    "\n",
    "        for val_index in range(len(unique_vals)):\n",
    "            if val_index != 0:\n",
    "                current = unique_vals[val_index]\n",
    "                previous = unique_vals[val_index - 1]\n",
    "                split = (current + previous) / 2\n",
    "                \n",
    "                possible_splits[column].append(split)\n",
    "    \n",
    "    return possible_splits"
   ]
  },
  {
   "cell_type": "code",
   "execution_count": 16,
   "metadata": {},
   "outputs": [],
   "source": [
    "def best_partition(data,possible_splits):\n",
    "    \n",
    "    highest_gain = 0\n",
    "    current_uncertainity = gini(data)\n",
    "    n_features = data.shape[1] - 1\n",
    "    \n",
    "    for column in possible_splits:\n",
    "        \n",
    "        for val in possible_splits[column]:\n",
    "            \n",
    "            left,right = split_by_value(data,column,val)\n",
    "            \n",
    "            info_gain = information_gain(current_uncertainity,left,right)\n",
    "            \n",
    "            if info_gain > highest_gain:\n",
    "                highest_gain = info_gain\n",
    "                best_feature = column\n",
    "                best_value = val\n",
    "        \n",
    "    return best_feature,best_value\n",
    "        "
   ]
  },
  {
   "cell_type": "code",
   "execution_count": 17,
   "metadata": {},
   "outputs": [],
   "source": [
    "def check_single_class(data):\n",
    "    \n",
    "    labels = data[:,-1]\n",
    "    \n",
    "    unique_labels = np.unique(labels)\n",
    "    \n",
    "    if len(unique_labels) == 1:\n",
    "        return True\n",
    "    else:\n",
    "        return False"
   ]
  },
  {
   "cell_type": "markdown",
   "metadata": {},
   "source": [
    "# ooped"
   ]
  },
  {
   "cell_type": "code",
   "execution_count": 20,
   "metadata": {},
   "outputs": [],
   "source": [
    "class Leaf: # represents decision making shiz\n",
    "    \n",
    "    def __init__(self,data):\n",
    "        self.classification = classify(data) # the leaf returns the classification of the data"
   ]
  },
  {
   "cell_type": "code",
   "execution_count": 21,
   "metadata": {},
   "outputs": [],
   "source": [
    "class Node:\n",
    "    \n",
    "    def __init__(self,left_branch,right_branch,feature,value):\n",
    "        self.feature = feature\n",
    "        self.value = value\n",
    "        self.left_branch = left_branch\n",
    "        self.right_branch = right_branch"
   ]
  },
  {
   "cell_type": "code",
   "execution_count": 43,
   "metadata": {},
   "outputs": [],
   "source": [
    "def build_tree(data,min_samples):\n",
    "    \n",
    "    if check_single_class(data) or (len(data)<min_samples): # it will go deep enough to a point where its a single class or a single sample\n",
    "        leaf = Leaf(data)\n",
    "        return leaf\n",
    "    \n",
    "    else:\n",
    "        potential_split = fetch_possible_splits(data)\n",
    "        feature,value = best_partition(data,potential_split)\n",
    "\n",
    "        true_data,false_data = split_by_value(data,feature,value)\n",
    "        \n",
    "        \n",
    "        \n",
    "        left_branch = build_tree(true_data,min_samples)\n",
    "        \n",
    "        right_branch = build_tree(false_data,min_samples)\n",
    "        \n",
    "        \n",
    "        return Node(left_branch,right_branch,feature,value)"
   ]
  },
  {
   "cell_type": "code",
   "execution_count": 44,
   "metadata": {},
   "outputs": [],
   "source": [
    "def classify_example(example,node):\n",
    "    \n",
    "    if isinstance(node,Leaf):\n",
    "        return node.classification\n",
    "    \n",
    "    if example[node.feature] <= node.value:\n",
    "        return classify_example(example,node.left_branch)\n",
    "    else:\n",
    "        return classify_example(example,node.right_branch)\n",
    "        "
   ]
  },
  {
   "cell_type": "markdown",
   "metadata": {},
   "source": [
    "# not ooped"
   ]
  },
  {
   "cell_type": "code",
   "execution_count": 49,
   "metadata": {},
   "outputs": [],
   "source": [
    "def build_tree(data,min_samples):\n",
    "\n",
    "    if check_single_class(data) or (len(data)<min_samples):\n",
    "        classification = classify(data)\n",
    "        return classification\n",
    "\n",
    "    else:\n",
    "        potential_split = fetch_possible_splits(data)\n",
    "        feature,value = best_partition(data,potential_split)\n",
    "\n",
    "        left,right = split_by_value(data,feature,value)\n",
    "    \n",
    "        question = \"{} <= {}\".format(idx_to_feature[feature],value)\n",
    "        sub_tree = {question:[]}\n",
    "\n",
    "      # left satisifies x <= value\n",
    "        true = build_tree(left,min_samples)\n",
    "\n",
    "        false = build_tree(right,min_samples)\n",
    "\n",
    "        if true == false:\n",
    "            sub_tree = true\n",
    "        else:\n",
    "            sub_tree[question].append(true)\n",
    "            sub_tree[question].append(false)\n",
    "\n",
    "        return sub_tree\n"
   ]
  },
  {
   "cell_type": "code",
   "execution_count": 50,
   "metadata": {},
   "outputs": [],
   "source": [
    "def classify_example(example, tree):\n",
    "    question = list(tree.keys())[0]\n",
    "    feature_name, comparison_operator, value = question.split()\n",
    "\n",
    "    # ask question\n",
    "    if example[feature_to_idx[feature_name]] <= float(value):\n",
    "        answer = tree[question][0]\n",
    "    else:\n",
    "        answer = tree[question][1]\n",
    "\n",
    "    # base case\n",
    "    if not isinstance(answer, dict):\n",
    "        return answer\n",
    "    \n",
    "    # recursive part\n",
    "    else:\n",
    "        residual_tree = answer\n",
    "        return classify_example(example, residual_tree)"
   ]
  },
  {
   "cell_type": "code",
   "execution_count": 51,
   "metadata": {
    "scrolled": true
   },
   "outputs": [
    {
     "name": "stdout",
     "output_type": "stream",
     "text": [
      "{'variance <= 0.32016500000000003': [{'skewness <= 6.70445': [{'variance <= -0.458565': [{'curtosis <= 6.21865': [1.0, {'skewness <= -4.74175': [1.0, {'variance <= -2.1171': [{'variance <= -2.6237500000000002': [0.0, 1.0]}, 0.0]}]}]}, {'curtosis <= 4.84085': [{'skewness <= 5.45355': [{'curtosis <= 2.62465': [1.0, {'variance <= -0.365255': [1.0, 0.0]}]}, 0.0]}, 0.0]}]}, {'variance <= -3.4448999999999996': [1.0, 0.0]}]}, {'curtosis <= -4.3856': [{'variance <= 3.30405': [1.0, 0.0]}, {'variance <= 1.5922': [{'curtosis <= -2.923': [1.0, {'entropy <= -0.0610043': [{'variance <= 0.450925': [{'variance <= 0.400865': [0.0, 1.0]}, 0.0]}, {'curtosis <= 1.85305': [{'skewness <= 3.6109': [1.0, 0.0]}, 0.0]}]}]}, {'variance <= 2.0388': [{'curtosis <= -2.6483499999999998': [1.0, 0.0]}, 0.0]}]}]}]}\n"
     ]
    }
   ],
   "source": [
    "from pprint import pprint\n",
    "tree = build_tree(train_data,2)\n",
    "print(tree)"
   ]
  },
  {
   "cell_type": "code",
   "execution_count": 52,
   "metadata": {},
   "outputs": [],
   "source": [
    "pred = []\n",
    "for i in range(len(test_data)):\n",
    "    pred.append(classify_example(test_data[i],tree))"
   ]
  },
  {
   "cell_type": "code",
   "execution_count": 53,
   "metadata": {},
   "outputs": [
    {
     "data": {
      "text/plain": [
       "0.9854545454545455"
      ]
     },
     "execution_count": 53,
     "metadata": {},
     "output_type": "execute_result"
    }
   ],
   "source": [
    "np.sum(np.array(pred) == test_data[:,-1])/len(test_data)"
   ]
  },
  {
   "cell_type": "code",
   "execution_count": null,
   "metadata": {},
   "outputs": [],
   "source": []
  }
 ],
 "metadata": {
  "kernelspec": {
   "display_name": "Python 3",
   "language": "python",
   "name": "python3"
  },
  "language_info": {
   "codemirror_mode": {
    "name": "ipython",
    "version": 3
   },
   "file_extension": ".py",
   "mimetype": "text/x-python",
   "name": "python",
   "nbconvert_exporter": "python",
   "pygments_lexer": "ipython3",
   "version": "3.8.5"
  }
 },
 "nbformat": 4,
 "nbformat_minor": 4
}
